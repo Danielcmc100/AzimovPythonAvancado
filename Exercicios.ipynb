{
 "cells": [
  {
   "cell_type": "code",
   "execution_count": 3,
   "metadata": {},
   "outputs": [
    {
     "name": "stdout",
     "output_type": "stream",
     "text": [
      "6\n",
      "20\n",
      "15\n",
      "50\n"
     ]
    }
   ],
   "source": [
    "# Desafio 02\n",
    "# Crie uma função chamada multiplicar_por. O que esta função faz é retornar uma nova função\n",
    "# f capaz de multiplicar um número qualquer pelo fator n passado à função multiplicar_por.\n",
    "\n",
    "def multiplicar_por(numero: int):\n",
    "    def multiplicar(n: int):\n",
    "        return n * numero\n",
    "    return multiplicar\n",
    "\n",
    "\n",
    "# Exemplo de uso:\n",
    "dobrar = multiplicar_por(2)\n",
    "print(dobrar(3))\n",
    "# output: 6\n",
    "print(dobrar(10))\n",
    "#output: 20\n",
    "vezes_cinco = multiplicar_por(5)\n",
    "print(vezes_cinco(3))\n",
    "# output: 15\n",
    "print(vezes_cinco(10))\n",
    "# output: 50\n"
   ]
  },
  {
   "cell_type": "markdown",
   "metadata": {},
   "source": [
    "27. Desafio – Biblioteca padrão\n",
    "Desafios\n",
    "Desafio 01\n",
    "Crie uma função chamada ler_datas, que recebe um texto qualquer e extrai todas as datas que\n",
    "estejam escritas no formato DD/MM/AAAA (como objetos datetime). Use o texto abaixo como\n",
    "exemplo:"
   ]
  },
  {
   "cell_type": "code",
   "execution_count": 2,
   "metadata": {},
   "outputs": [],
   "source": [
    "texto = \"\"\"\n",
    "A reunião está marcada para o dia 15/03/2023.\n",
    "Lembre-se de entregar o relatório até 28/02/2023.\n",
    "O evento acontecerá em 10/04/2023 no auditório principal.\n",
    "\"\"\""
   ]
  },
  {
   "cell_type": "code",
   "execution_count": 12,
   "metadata": {},
   "outputs": [
    {
     "data": {
      "text/plain": [
       "[datetime.datetime(2023, 3, 15, 0, 0),\n",
       " datetime.datetime(2023, 2, 28, 0, 0),\n",
       " datetime.datetime(2023, 4, 10, 0, 0)]"
      ]
     },
     "execution_count": 12,
     "metadata": {},
     "output_type": "execute_result"
    }
   ],
   "source": [
    "from datetime import datetime\n",
    "from re import findall\n",
    "\n",
    "DATE_PATERN = r\"[0-9]{2}/[0-9]{2}/[0-9]{4}\" \n",
    "\n",
    "DATE_FORMAT = r\"%d/%m/%Y\"\n",
    "\n",
    "def ler_datas(texto: str) -> datetime:\n",
    "    texto_datas = findall(DATE_PATERN, texto)\n",
    "    return [datetime.strptime(data, DATE_FORMAT) for data in texto_datas]\n",
    "\n",
    "ler_datas(texto)"
   ]
  },
  {
   "cell_type": "markdown",
   "metadata": {},
   "source": [
    "Desafio 02\n",
    "Crie uma função chamada diff_tempo, que aceita dois strings no formato HH:MM:SS e retorna a\n",
    "diferença de tempo entre eles em um string de mesmo formato.\n",
    "Exemplo de uso:"
   ]
  },
  {
   "cell_type": "code",
   "execution_count": 33,
   "metadata": {},
   "outputs": [],
   "source": [
    "from datetime import datetime\n",
    "\n",
    "DATE_FORMAT = r\"%H:%M:%S\"\n",
    "\n",
    "def diff_tempo(inicio: str, fim: str) -> str:\n",
    "    data_inicio = datetime.strptime(inicio, DATE_FORMAT)\n",
    "    data_fim = datetime.strptime(fim, DATE_FORMAT)\n",
    "\n",
    "    diferenca = data_fim - data_inicio\n",
    "    return  str(diferenca)\n"
   ]
  },
  {
   "cell_type": "code",
   "execution_count": 34,
   "metadata": {},
   "outputs": [
    {
     "name": "stdout",
     "output_type": "stream",
     "text": [
      "5:20:48\n"
     ]
    }
   ],
   "source": [
    "inicio = '08:34:21'\n",
    "fim = '13:55:09'\n",
    "diff = diff_tempo(inicio, fim)\n",
    "print(diff)\n",
    "# output:\n",
    "# 5:20:48"
   ]
  }
 ],
 "metadata": {
  "kernelspec": {
   "display_name": "Python 3",
   "language": "python",
   "name": "python3"
  },
  "language_info": {
   "codemirror_mode": {
    "name": "ipython",
    "version": 3
   },
   "file_extension": ".py",
   "mimetype": "text/x-python",
   "name": "python",
   "nbconvert_exporter": "python",
   "pygments_lexer": "ipython3",
   "version": "3.12.0"
  }
 },
 "nbformat": 4,
 "nbformat_minor": 2
}
